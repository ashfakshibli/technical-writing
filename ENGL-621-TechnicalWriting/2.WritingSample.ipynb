{
 "cells": [
  {
   "attachments": {},
   "cell_type": "markdown",
   "metadata": {},
   "source": [
    "Bring in a sample of a recent piece of academic writing. This should be your original work. Choose an excerpt of 250-350 words and be prepared to share it with classmates. We will be using these writing samples to do some revision exercises and craft analysis.\n",
    "\n",
    "Right now you do not need to do anything other than upload the writing sample (250-350 words). Try to pick an excerpt that can stand alone. That is, a piece of writing we will be able to analyze without a great deal of additional information. Briefly note the following:\n",
    "\n",
    "What was the document? Was this a paper for a course? A conference paper? A journal article? Another document?\n",
    "When did you write it?\n",
    "Who was the audience? (a professor? classmates? other scholars?)\n",
    "Model:\n",
    "\n",
    "A conference paper I wrote last year to present at XXXXX conference. The title of the paper was XXXXXX.\n",
    "\n",
    "[Copy/paste 250-350 word excerpt]\n",
    "\n"
   ]
  },
  {
   "attachments": {},
   "cell_type": "markdown",
   "metadata": {},
   "source": [
    "#### My Response"
   ]
  },
  {
   "attachments": {},
   "cell_type": "markdown",
   "metadata": {},
   "source": [
    "The document was a paper titled “Developing a vision-based driving assistance system”, presented at a conference after my undergraduate and published in the “Advances in Intelligent Systems and Computing” book series by Springer. I have written it in 2018 and was published in 2019. It was an international conference and the audience was research scholars. Following is the abstract of the paper and some background motivation to make it about 300 words.\n",
    "\n",
    " \n",
    "\n",
    "Driver’s inattention and distraction are the most prominent reasons for road accidents. Since a fraction of second distraction may cause a severe accident and hence active attention of driver is mandatory while driving a car. Intelligent driving assistance system may reduce accident rate that are mostly occur due to inattentiveness and in turn improve the efficiency in driving. It is quite challenging task for computer vision to monitor the driver’s level of attention continuously and assist him/her when level of attention is low due to distractions. This paper presents a driving assistance system that can compute the driver’s attention and determine his/her level of attention while driving using a simple webcam and computer vision technique. The driver’s attention level is determined by estimating his/her face direction, gaze direction, mouth movement, and head pose from video stream captured by the camera. If the level of attention crosses a predetermined value, the system initiates an audio sound to create the alertness of the driver. Experimental results show the system is functioning well and successful to generate alarms for 89.34% cases of inattention.\n",
    "\n",
    "It is one of the vital issues to keep the level of attention of the driver is a high value while he/she is in driving to ensure safety of himself/herself and the passengers. In this work, the level of attention is refers to the measure of concentration of the driver during driving in terms of physiological parameters. A high level of attention of drivers is very much vital because it retains safety of the vehicle and the humans in or around the vehicle. If the driver’s attention level decreases to a shallow level because of the physiological etiquette, severe accident may occur within a moment"
   ]
  },
  {
   "cell_type": "markdown",
   "metadata": {},
   "source": []
  }
 ],
 "metadata": {
  "language_info": {
   "name": "python"
  },
  "orig_nbformat": 4
 },
 "nbformat": 4,
 "nbformat_minor": 2
}
