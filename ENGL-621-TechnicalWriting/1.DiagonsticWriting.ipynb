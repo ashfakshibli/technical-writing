{
 "cells": [
  {
   "attachments": {},
   "cell_type": "markdown",
   "metadata": {},
   "source": [
    "#### This is a diagonstic writing task to understand writing baseline of someone. "
   ]
  },
  {
   "attachments": {},
   "cell_type": "markdown",
   "metadata": {},
   "source": [
    "#### ENGL-621 Technical Writing for Graduate Students: Day 1 Diagnostic Writing \n",
    "\n",
    "##### Dr. Livingstone\n",
    "\n",
    "Write me a letter about your experience with professional writing and your goals for this course. Include a formal greeting and closing (e.g. “Regards,” “Sincerely,” etc.) I suggest sketching a brief outline before you begin. In your letter, address the following questions. I am listing these questions to help you read the instructions more quickly. However, in your letter, organize your writing into paragraphs (not a list or bullet points). Include an introduction. Address the following in any order:\n",
    "\n",
    "- What is your field of study? Where are you in your degree program? That is, are you a first-year PhD student taking courses, or a more advanced student preparing a proposal or drafting a dissertation chapter? Or are you a Master’s student?\n",
    "- What is your experience with professional and academic writing? This can be in any language. Have you written grant proposals or perhaps dealt with professional communication (emails and other correspondence) at a job? Has this experience been in English or in another language?\n",
    "- Are you more comfortable writing in English or in another language?\n",
    "- What are your strengths as a writer? You might think about organization, style, grammar, or any other aspect of writing.\n",
    "- Describe one of your best pieces of writing (in or out of school). What were the things about that piece of writing that made it successful?\n",
    "- What do you need to work on as a writer? Be as specific as possible and explain/develop your response. Why do you think it’s important to work on this aspect (or these aspects if you want to discuss more than one thing) of writing?\n",
    "- The major project in this course will be a document that will help you towards degree completion. Do you know what you would like to work on for your major project? If you don’t know, perhaps you can use this section to brainstorm some initial ideas.\n",
    "- Do you have a CV? Is it up to date? Have you ever sent it out for any purpose? If so, what was the result?\n",
    "- Why are you taking this course? What are your goals for the semester?\n",
    "- Is there anything else you would like me to know?"
   ]
  },
  {
   "attachments": {},
   "cell_type": "markdown",
   "metadata": {},
   "source": [
    "#### My Response\n",
    "\n",
    "Dear Professor Livingstone,\n",
    "\n",
    "My name is Ashfak, a first-year student Ph.D. student in Computer Science Department at NJIT starting in Fall 2022. ENGL-621 is a course I think would be a game changer for excelling in writing skills. I believe I mentioned in class that I have readjusted my other course schedule to take the course. I really hope to come out as a good observer, reviewer, and most importantly writer at the end of the course.\n",
    "\n",
    "I have previously used English in almost all professional and academic settings. Most recently for a course, I have written a research sample paper and improved it throughout the last semester. Before coming to NJIT, I have written lots of emails, statements of purpose, and resumes in English to apply to different universities. Moreover, I worked as a Software Engineer at Samsung in my home country where every communication including emails, presentations, and overseas conversations was in English. At the undergraduate level, I have also published a research paper in a journal. Since it was an international journal, English was the primary medium to contact journal reviewers, and professors and even present at conferences. \n",
    "\n",
    "As mentioned above, being used to mostly communicating in English, I am more comfortable than Bengali (my mother language) in professional and academic settings. When writing anything, I try to maintain some checkpoints like who is my audience,  what are the constraints (like how many words/line/page restrictions), is my flow from start to finish is keeping the audience interested, being clear and concise in the paragraphs and there is proper introduction and conclusion. During writing drafts, I try not to overwhelm myself keeping track of strict grammar and sentence structure. I try to fix those while reviewing the draft towards finalizing the writing and literally added these last two lines of the paragraph while reviewing this letter.\n",
    "\n",
    "If I want to say my best writing, it is the journal paper I published from my undergraduate thesis work. That was a piece I worked on rigorously on an academic and professional level for the first time and I am proud of that as it received the best paper award in the conference participated. The work was about “Developing a vision-based driving assistance system”, which evidently now Tesla self-driving cars use as part of an automated driving system. The most improving factor of that work was my supervisor’s continuous feedback and corrections, organization, and reviews we went through before publication. Additionally, while doing those I had to go through related papers and observe related articles’ structure, and writing flow. I tried to incorporate and mimic those aspects in my research paper.\n",
    "\n",
    "As a Ph.D. student I am about to do full-time research and academic writing is mandatory for research articles and communication with peers. So it is expected as a graduate student I am prudent enough while writing anything. Oftentimes, I tend to not be wary about strict grammar while writing a draft so that I don’t feel intimidated from start. But eventually, sometimes, I overlook some grammatical errors while reviewing or after a few iterations of reading those mistakes become invisible to me. I think I need to develop self-scrutiny skills stronger. Sometimes I mistakenly put unnecessary capitalization here and there in the writing, especially on presentation slides. To resolve this I have made a plan to not capitalize anything other than the first word while writing the draft. That way the false capitalization may be removed but there is the possibility of missing emphasization and obvious things like names.\n",
    "\n",
    "I am working with my advisor on a research project. If we can advance enough for publishing the new work, I may need to write a research article for a conference. I would love to work on documenting this but I am not sure about the progress and whether will it be in the same timeline as this course. But at the same time, as a backup idea, I have other two courses (Machine Learning and Data Mining) where we must submit project work which I am gonna understand in a few weeks. Eventually, I am confident to come up with a writing task that will fulfill other course requirements and also this one.\n",
    "\n",
    "I have an up-to-date CV and also a Resume. But I made a mistake previously thinking CV and Resume are almost similar and renamed them alternatively. Later, I learned they have some significant differences and tried to make two independent documents expressing skills as required. Recently, I have sent them for Summer Internships in different companies. I have got some initial screening calls and a few interviews. Though I have received some calls I think those need some more improvements with expert advice. I would be grateful if you can give some feedback on my resume.\n",
    "\n",
    "Last semester, luckily I got a professor's class who gave writing tasks with presentations and provided a lot of feedback to improve this skill. From there, seeing this course, I thought it will be a great learning experience to continue improving my writing. I have loved the workshop format so that we are also getting to have conversations too. This is something I have really missed last semester as I was among my native language-speaking circle most of the time. It did not help me to improve my social skills in the diverse environment USA. I am very excited to be in this course and look forward to improving not only my writing skills but also my speaking, reading, and listening. My goals for the semester include improving my writing style, grammar, and organization, and gaining a better understanding of how to effectively communicate my research ideas.\n",
    "\n",
    "Thank you for introducing the course and offering us the opportunity to sharpen our skills to succeed in academic and professional life.\n",
    "\n",
    "Best Regards,\n",
    "Ashfak Md Shibli"
   ]
  },
  {
   "attachments": {},
   "cell_type": "markdown",
   "metadata": {},
   "source": [
    "#### Feedback"
   ]
  },
  {
   "cell_type": "markdown",
   "metadata": {},
   "source": []
  }
 ],
 "metadata": {
  "language_info": {
   "name": "python"
  },
  "orig_nbformat": 4
 },
 "nbformat": 4,
 "nbformat_minor": 2
}
