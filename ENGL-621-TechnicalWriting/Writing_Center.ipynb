{
 "cells": [
  {
   "attachments": {},
   "cell_type": "markdown",
   "metadata": {},
   "source": [
    "#### NJIT Writing center\n",
    "By appointment at https://www.njit.edu/writingcenter/schedule-appointment\n",
    "\n"
   ]
  },
  {
   "attachments": {},
   "cell_type": "markdown",
   "metadata": {},
   "source": [
    "#### NJIT discussion/conversation center for social skills Wednesday (4-5pm). - CKB-G17"
   ]
  }
 ],
 "metadata": {
  "language_info": {
   "name": "python"
  },
  "orig_nbformat": 4
 },
 "nbformat": 4,
 "nbformat_minor": 2
}
